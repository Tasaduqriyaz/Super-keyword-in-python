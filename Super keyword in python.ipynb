{
 "cells": [
  {
   "cell_type": "code",
   "execution_count": 9,
   "id": "fa6e8c04-3587-4a08-8387-091279b33506",
   "metadata": {},
   "outputs": [
    {
     "name": "stdout",
     "output_type": "stream",
     "text": [
      "this is child method\n",
      "i am in parent method\n",
      "\n",
      "\n",
      "hey there\n",
      "i am in parent method\n"
     ]
    },
    {
     "data": {
      "text/plain": [
       "'The name is salman salary is 120000 and the language is python'"
      ]
     },
     "execution_count": 9,
     "metadata": {},
     "output_type": "execute_result"
    }
   ],
   "source": [
    "# program which shows the importance of super keyword to use parent_class method in child_class\n",
    "class parent_class:\n",
    "    def parent_method (self):\n",
    "        print ('i am in parent method')\n",
    "class child_class(parent_class):\n",
    "    def parent_method(self):     # we were able to call parent_method of parent_class in childclass by using super()\n",
    "        print ('hey there')\n",
    "        super().parent_method()\n",
    "    def child_method(self):\n",
    "        print ('this is child method')\n",
    "        super().parent_method()\n",
    "child_object=child_class()\n",
    "child_object.child_method()\n",
    "print ('\\n')\n",
    "child_object.parent_method()  # note if we comment out parent_method of child_class,then by default parent_method of parent_class will be printed \n",
    "                              # because of inheritance\n",
    "\n",
    "# program which shows how to pass arguments of a child class to parent class using super() for constructor\n",
    "class parent:\n",
    "    def __init__(self,name,salary):\n",
    "        self.name=name\n",
    "        self.salary=salary\n",
    "        \n",
    "class child(parent):\n",
    "    def __init__(self,name,salary,lang):\n",
    "        super().__init__(name,salary)\n",
    "        self.lang=lang\n",
    "    def showdetails(self):\n",
    "        return f'The name is {self.name} salary is {self.salary} and the language is {self.lang}'\n",
    "\n",
    "ch=child('salman',12000,'python')\n",
    "ch.showdetails()\n",
    "    \n",
    "        \n",
    "        \n",
    "    \n",
    "        \n",
    "        \n",
    "        "
   ]
  },
  {
   "cell_type": "code",
   "execution_count": null,
   "id": "c3d56931-2609-412d-bc01-75c6daa23736",
   "metadata": {},
   "outputs": [],
   "source": []
  }
 ],
 "metadata": {
  "kernelspec": {
   "display_name": "Python 3 (ipykernel)",
   "language": "python",
   "name": "python3"
  },
  "language_info": {
   "codemirror_mode": {
    "name": "ipython",
    "version": 3
   },
   "file_extension": ".py",
   "mimetype": "text/x-python",
   "name": "python",
   "nbconvert_exporter": "python",
   "pygments_lexer": "ipython3",
   "version": "3.11.7"
  }
 },
 "nbformat": 4,
 "nbformat_minor": 5
}
